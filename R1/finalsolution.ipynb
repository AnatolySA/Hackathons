{
 "cells": [
  {
   "cell_type": "code",
   "execution_count": 1,
   "id": "aaba0969",
   "metadata": {},
   "outputs": [],
   "source": [
    "#pip install pyarrow"
   ]
  },
  {
   "cell_type": "code",
   "execution_count": 2,
   "id": "f25c9cf8",
   "metadata": {},
   "outputs": [
    {
     "name": "stderr",
     "output_type": "stream",
     "text": [
      "H:\\Anaconda\\lib\\site-packages\\scipy\\__init__.py:155: UserWarning: A NumPy version >=1.18.5 and <1.25.0 is required for this version of SciPy (detected version 1.26.0\n",
      "  warnings.warn(f\"A NumPy version >={np_minversion} and <{np_maxversion}\"\n"
     ]
    }
   ],
   "source": [
    "# Импортируем библиотеки\n",
    "import pandas as pd\n",
    "import seaborn as sns\n",
    "import numpy as np\n",
    "import lightgbm as lgb\n",
    "from sklearn.model_selection import cross_val_score, GridSearchCV\n",
    "from sklearn.metrics import make_scorer, roc_auc_score"
   ]
  },
  {
   "cell_type": "markdown",
   "id": "39922c94",
   "metadata": {},
   "source": [
    "# Отбор значимых признаков"
   ]
  },
  {
   "cell_type": "markdown",
   "id": "6f4c528e",
   "metadata": {},
   "source": [
    "### Часть 1"
   ]
  },
  {
   "cell_type": "code",
   "execution_count": 3,
   "id": "6fd275ce",
   "metadata": {},
   "outputs": [],
   "source": [
    "# Считываем названия фичей, преобразуем в датафрейм\n",
    "columns = pd.read_json('features_types.json', typ='series')\n",
    "data_columns = pd.DataFrame(columns).reset_index()\n",
    "data_columns.rename(columns = {'index': 'column', 0: 'type'}, \n",
    "                    inplace = True)"
   ]
  },
  {
   "cell_type": "code",
   "execution_count": 4,
   "id": "45298857",
   "metadata": {},
   "outputs": [],
   "source": [
    "# Формируем список фичей для выгрузки из панельки\n",
    "list_columns = data_columns[:900].column.tolist()\n",
    "list_columns.insert(0, 'target')\n",
    "list_columns.insert(1, 'period')"
   ]
  },
  {
   "cell_type": "code",
   "execution_count": 5,
   "id": "fedc64b9",
   "metadata": {},
   "outputs": [],
   "source": [
    "# Выгружаем данные\n",
    "data = pd.read_parquet('dataset_train.parquet', engine='pyarrow', columns=list_columns)"
   ]
  },
  {
   "cell_type": "code",
   "execution_count": 6,
   "id": "2ba322b0",
   "metadata": {},
   "outputs": [
    {
     "data": {
      "text/plain": [
       "35"
      ]
     },
     "execution_count": 6,
     "metadata": {},
     "output_type": "execute_result"
    }
   ],
   "source": [
    "# Считаем фичи с долей пропусков более 50%\n",
    "list_feat = []\n",
    "for column in data_columns[0:900].column.tolist():\n",
    "    if data[column].isna().sum() / data[column].isna().count() > 0.5:\n",
    "        list_feat.append(column)\n",
    "len(list_feat)"
   ]
  },
  {
   "cell_type": "code",
   "execution_count": 7,
   "id": "05949edc",
   "metadata": {},
   "outputs": [
    {
     "data": {
      "text/plain": [
       "867"
      ]
     },
     "execution_count": 7,
     "metadata": {},
     "output_type": "execute_result"
    }
   ],
   "source": [
    "# Формируем список без фичей с пропусками\n",
    "list_wo_miss = list(set(list_columns) - set(list_feat))\n",
    "len(list_wo_miss)"
   ]
  },
  {
   "cell_type": "code",
   "execution_count": 8,
   "id": "c6b32811",
   "metadata": {},
   "outputs": [],
   "source": [
    "# Переопределяем датафрейм с фичами для выгрузки\n",
    "data_columns = data_columns.loc[data_columns['column'].isin(list_wo_miss)]\n",
    "\n",
    "# Разбиваем полученный датасет на фичи по типу\n",
    "data_columns_numeric = data_columns.loc[data_columns['type'] == 'numeric']\n",
    "\n",
    "data_columns_cat = data_columns.loc[(data_columns['type'] == 'categorical_int') | \n",
    "                                    (data_columns['type'] == 'categorical_str')]"
   ]
  },
  {
   "cell_type": "code",
   "execution_count": 9,
   "id": "c763bf62",
   "metadata": {},
   "outputs": [],
   "source": [
    "# Формируем список фичей для выгрузки из панельки\n",
    "list_columns_numeric = data_columns_numeric.column.tolist()\n",
    "list_columns_numeric.insert(0, 'target')\n",
    "list_columns_numeric.insert(1, 'period')\n",
    "\n",
    "list_columns_cat = data_columns_cat.column.tolist()"
   ]
  },
  {
   "cell_type": "code",
   "execution_count": 10,
   "id": "ebf8439b",
   "metadata": {},
   "outputs": [
    {
     "data": {
      "text/plain": [
       "0"
      ]
     },
     "execution_count": 10,
     "metadata": {},
     "output_type": "execute_result"
    }
   ],
   "source": [
    "data_cat = pd.read_parquet('dataset_train.parquet', engine='pyarrow', columns=list_columns_cat)\n",
    "data_cat.isna().sum().max()\n",
    "# пропусков нет "
   ]
  },
  {
   "cell_type": "code",
   "execution_count": 11,
   "id": "b0b5a891",
   "metadata": {},
   "outputs": [],
   "source": [
    "data_numeric = pd.read_parquet('dataset_train.parquet', engine='pyarrow', columns=list_columns_numeric)"
   ]
  },
  {
   "cell_type": "code",
   "execution_count": 12,
   "id": "97c2f695",
   "metadata": {},
   "outputs": [
    {
     "data": {
      "text/plain": [
       "0"
      ]
     },
     "execution_count": 12,
     "metadata": {},
     "output_type": "execute_result"
    }
   ],
   "source": [
    "for column in list_columns_numeric:\n",
    "    data_numeric[column].fillna(data_numeric[column].median(), inplace = True)\n",
    "data_numeric.isna().sum().max()"
   ]
  },
  {
   "cell_type": "code",
   "execution_count": 13,
   "id": "36286ab3",
   "metadata": {},
   "outputs": [],
   "source": [
    "# Датафрейм с заполненными пропусками\n",
    "data_fill = data_numeric.join(data_cat)\n",
    "data_numeric = []\n",
    "data_cat = []"
   ]
  },
  {
   "cell_type": "markdown",
   "id": "6fe80825",
   "metadata": {},
   "source": [
    "#### Отбор значимых признаков"
   ]
  },
  {
   "cell_type": "code",
   "execution_count": 14,
   "id": "0912f7ea",
   "metadata": {},
   "outputs": [],
   "source": [
    "# Задаем объясняемую и объясняющие переменные\n",
    "features = data_fill.drop(columns=['target', 'period'])\n",
    "target = data_fill['target']"
   ]
  },
  {
   "cell_type": "code",
   "execution_count": 15,
   "id": "0c014b7f",
   "metadata": {},
   "outputs": [],
   "source": [
    "# Оределеяем константу для random_state\n",
    "STATE = 442\n",
    "\n",
    "# Создаем метрику качества для GridSearch\n",
    "roc_auc_scorer = make_scorer(roc_auc_score, greater_is_better=True,\n",
    "                             needs_threshold=True)\n",
    "\n",
    "\n",
    "# Определяем модель\n",
    "model = lgb.LGBMClassifier(random_state = STATE)\n",
    "\n",
    "# Задаем параметры для GridSearchCV\n",
    "params = {\n",
    "     'max_depth': [10],\n",
    "     'reg_alpha':[0.01],\n",
    "     'num_leaves': [5]}"
   ]
  },
  {
   "cell_type": "code",
   "execution_count": 16,
   "id": "e6340929",
   "metadata": {
    "scrolled": true
   },
   "outputs": [
    {
     "name": "stdout",
     "output_type": "stream",
     "text": [
      "ROC-AUC для лучшей модели бустинга составило: -0.694355\n",
      "Гиперпараметры лучшей модели: {'max_depth': 10, 'num_leaves': 5, 'reg_alpha': 0.01}\n",
      "Wall time: 31min 37s\n"
     ]
    }
   ],
   "source": [
    "%%time\n",
    "# Настраиваем GridSearch\n",
    "grid_lgbm = GridSearchCV(model, \n",
    "                         params, \n",
    "                         cv = 3, \n",
    "                         scoring = roc_auc_scorer, \n",
    "                         n_jobs = -1)\n",
    "\n",
    "# Находим модель с лучшим значением метрики\n",
    "grid_lgbm.fit(features[features.columns.tolist()], target)\n",
    "\n",
    "\n",
    "print(f'ROC-AUC для лучшей модели бустинга составило: '\n",
    "      f'{-grid_lgbm.best_score_:.6}')\n",
    "print(f'Гиперпараметры лучшей модели: {grid_lgbm.best_params_}')"
   ]
  },
  {
   "cell_type": "code",
   "execution_count": 17,
   "id": "eaca4f69",
   "metadata": {},
   "outputs": [],
   "source": [
    "# Достаем значимость объясняющих переменных\n",
    "importances = grid_lgbm.best_estimator_.feature_importances_\n",
    "\n",
    "# Создаем датафрейм\n",
    "data_tuples = list(zip(features.columns.tolist(), importances.tolist()))\n",
    "feat_imp_df = pd.DataFrame(data_tuples, columns=['feature','importance'])"
   ]
  },
  {
   "cell_type": "code",
   "execution_count": 18,
   "id": "6696d3ae",
   "metadata": {},
   "outputs": [],
   "source": [
    "# Формируем список объясняющих переменных с ненулевой значимостью\n",
    "list_columns = feat_imp_df.feature.tolist()\n",
    "list_feat = feat_imp_df.query('importance == 0').feature.tolist()\n",
    "list_feat_imp = list(set(list_columns) - set(list_feat))"
   ]
  },
  {
   "cell_type": "code",
   "execution_count": 19,
   "id": "75363b79",
   "metadata": {},
   "outputs": [],
   "source": [
    "# Переопределяем набор объясняющих переменных для модели\n",
    "features = features[list_feat_imp]"
   ]
  },
  {
   "cell_type": "code",
   "execution_count": 20,
   "id": "4335691b",
   "metadata": {},
   "outputs": [
    {
     "name": "stdout",
     "output_type": "stream",
     "text": [
      "ROC-AUC для лучшей модели бустинга составило: -0.698232\n",
      "Wall time: 3min 11s\n"
     ]
    }
   ],
   "source": [
    "%%time\n",
    "\n",
    "# Переобучаем модель\n",
    "grid_lgbm.fit(features[features.columns.tolist()], target)\n",
    "\n",
    "print(f'ROC-AUC для лучшей модели бустинга составило: '\n",
    "      f'{-grid_lgbm.best_score_:.6}')"
   ]
  },
  {
   "cell_type": "code",
   "execution_count": 21,
   "id": "26f24b64",
   "metadata": {},
   "outputs": [
    {
     "data": {
      "text/html": [
       "<div>\n",
       "<style scoped>\n",
       "    .dataframe tbody tr th:only-of-type {\n",
       "        vertical-align: middle;\n",
       "    }\n",
       "\n",
       "    .dataframe tbody tr th {\n",
       "        vertical-align: top;\n",
       "    }\n",
       "\n",
       "    .dataframe thead th {\n",
       "        text-align: right;\n",
       "    }\n",
       "</style>\n",
       "<table border=\"1\" class=\"dataframe\">\n",
       "  <thead>\n",
       "    <tr style=\"text-align: right;\">\n",
       "      <th></th>\n",
       "      <th>feature</th>\n",
       "      <th>importance</th>\n",
       "    </tr>\n",
       "  </thead>\n",
       "  <tbody>\n",
       "    <tr>\n",
       "      <th>81</th>\n",
       "      <td>communication_availability_3_1_flg</td>\n",
       "      <td>17</td>\n",
       "    </tr>\n",
       "    <tr>\n",
       "      <th>142</th>\n",
       "      <td>markers_706_1_cnt</td>\n",
       "      <td>16</td>\n",
       "    </tr>\n",
       "    <tr>\n",
       "      <th>23</th>\n",
       "      <td>materials_details_0_1_ctg</td>\n",
       "      <td>15</td>\n",
       "    </tr>\n",
       "    <tr>\n",
       "      <th>58</th>\n",
       "      <td>markers_60_1_cnt</td>\n",
       "      <td>12</td>\n",
       "    </tr>\n",
       "    <tr>\n",
       "      <th>147</th>\n",
       "      <td>user_devices_0_1_cnt</td>\n",
       "      <td>10</td>\n",
       "    </tr>\n",
       "    <tr>\n",
       "      <th>...</th>\n",
       "      <td>...</td>\n",
       "      <td>...</td>\n",
       "    </tr>\n",
       "    <tr>\n",
       "      <th>57</th>\n",
       "      <td>markers_663_1_cnt</td>\n",
       "      <td>1</td>\n",
       "    </tr>\n",
       "    <tr>\n",
       "      <th>55</th>\n",
       "      <td>payments_details_15_1_cnt</td>\n",
       "      <td>1</td>\n",
       "    </tr>\n",
       "    <tr>\n",
       "      <th>54</th>\n",
       "      <td>payments_details_5_6_cnt</td>\n",
       "      <td>1</td>\n",
       "    </tr>\n",
       "    <tr>\n",
       "      <th>53</th>\n",
       "      <td>charges_details_24_1_sum</td>\n",
       "      <td>1</td>\n",
       "    </tr>\n",
       "    <tr>\n",
       "      <th>173</th>\n",
       "      <td>markers_242_1_cnt</td>\n",
       "      <td>1</td>\n",
       "    </tr>\n",
       "  </tbody>\n",
       "</table>\n",
       "<p>174 rows × 2 columns</p>\n",
       "</div>"
      ],
      "text/plain": [
       "                                feature  importance\n",
       "81   communication_availability_3_1_flg          17\n",
       "142                   markers_706_1_cnt          16\n",
       "23            materials_details_0_1_ctg          15\n",
       "58                     markers_60_1_cnt          12\n",
       "147                user_devices_0_1_cnt          10\n",
       "..                                  ...         ...\n",
       "57                    markers_663_1_cnt           1\n",
       "55            payments_details_15_1_cnt           1\n",
       "54             payments_details_5_6_cnt           1\n",
       "53             charges_details_24_1_sum           1\n",
       "173                   markers_242_1_cnt           1\n",
       "\n",
       "[174 rows x 2 columns]"
      ]
     },
     "execution_count": 21,
     "metadata": {},
     "output_type": "execute_result"
    }
   ],
   "source": [
    "# Формируем список фичей с ненулевой значимостью\n",
    "importances = grid_lgbm.best_estimator_.feature_importances_\n",
    "data_tuples = list(zip(features.columns.tolist(), importances.tolist()))\n",
    "feat_imp_df = pd.DataFrame(data_tuples, columns=['feature','importance'])\n",
    "feat_imp_df.sort_values(by = 'importance', ascending = False)"
   ]
  },
  {
   "cell_type": "code",
   "execution_count": 22,
   "id": "babe364c",
   "metadata": {},
   "outputs": [],
   "source": [
    "# Экспортируем файл\n",
    "feat_imp_df.to_csv (r'C:\\Users\\anato\\Desktop\\ds\\Хакатон R1\\1st_part_features.csv', index= False )"
   ]
  },
  {
   "cell_type": "markdown",
   "id": "afa747eb",
   "metadata": {},
   "source": [
    "### Часть 2"
   ]
  },
  {
   "cell_type": "code",
   "execution_count": 23,
   "id": "bacc540c",
   "metadata": {},
   "outputs": [],
   "source": [
    "# Считываем названия фичей, преобразуем в датафрейм\n",
    "columns = pd.read_json('features_types.json', typ='series')\n",
    "data_columns = pd.DataFrame(columns).reset_index()\n",
    "data_columns.rename(columns = {'index': 'column', 0: 'type'}, \n",
    "                    inplace = True)"
   ]
  },
  {
   "cell_type": "code",
   "execution_count": 24,
   "id": "54f5a3d5",
   "metadata": {},
   "outputs": [],
   "source": [
    "# Формируем список фичей для выгрузки из панельки\n",
    "list_columns = data_columns[900:1800].column.tolist()\n",
    "list_columns.insert(0, 'target')\n",
    "list_columns.insert(1, 'period')"
   ]
  },
  {
   "cell_type": "code",
   "execution_count": 25,
   "id": "24bbd75e",
   "metadata": {},
   "outputs": [],
   "source": [
    "# Выгружаем данные\n",
    "data = pd.read_parquet('dataset_train.parquet', engine='pyarrow', columns=list_columns)"
   ]
  },
  {
   "cell_type": "code",
   "execution_count": 26,
   "id": "72e34b7e",
   "metadata": {},
   "outputs": [
    {
     "data": {
      "text/plain": [
       "174"
      ]
     },
     "execution_count": 26,
     "metadata": {},
     "output_type": "execute_result"
    }
   ],
   "source": [
    "# Считаем фичи с долей пропусков более 50%\n",
    "list_feat = []\n",
    "for column in data_columns[900:1800].column.tolist():\n",
    "    if data[column].isna().sum() / data[column].isna().count() > 0.5:\n",
    "        list_feat.append(column)\n",
    "len(list_feat)"
   ]
  },
  {
   "cell_type": "code",
   "execution_count": 27,
   "id": "b57947c9",
   "metadata": {},
   "outputs": [
    {
     "data": {
      "text/plain": [
       "728"
      ]
     },
     "execution_count": 27,
     "metadata": {},
     "output_type": "execute_result"
    }
   ],
   "source": [
    "# Формируем список без фичей с пропусками\n",
    "list_wo_miss = list(set(list_columns) - set(list_feat))\n",
    "len(list_wo_miss)"
   ]
  },
  {
   "cell_type": "code",
   "execution_count": 28,
   "id": "ce842a9c",
   "metadata": {},
   "outputs": [],
   "source": [
    "# Переопределяем датафрейм с фичами для выгрузки\n",
    "data_columns = data_columns.loc[data_columns['column'].isin(list_wo_miss)]\n",
    "\n",
    "# Разбиваем полученный датасет на фичи по типу\n",
    "data_columns_numeric = data_columns.loc[data_columns['type'] == 'numeric']\n",
    "\n",
    "data_columns_cat = data_columns.loc[(data_columns['type'] == 'categorical_int') | \n",
    "                                    (data_columns['type'] == 'categorical_str')]"
   ]
  },
  {
   "cell_type": "code",
   "execution_count": 29,
   "id": "0470cdc9",
   "metadata": {},
   "outputs": [],
   "source": [
    "# Формируем список фичей для выгрузки из панельки\n",
    "list_columns_numeric = data_columns_numeric.column.tolist()\n",
    "list_columns_numeric.insert(0, 'target')\n",
    "list_columns_numeric.insert(1, 'period')\n",
    "\n",
    "list_columns_cat = data_columns_cat.column.tolist()"
   ]
  },
  {
   "cell_type": "code",
   "execution_count": 30,
   "id": "19a3812c",
   "metadata": {},
   "outputs": [
    {
     "data": {
      "text/plain": [
       "0"
      ]
     },
     "execution_count": 30,
     "metadata": {},
     "output_type": "execute_result"
    }
   ],
   "source": [
    "data_cat = pd.read_parquet('dataset_train.parquet', engine='pyarrow', columns=list_columns_cat)\n",
    "data_cat.isna().sum().max()\n",
    "# пропусков нет "
   ]
  },
  {
   "cell_type": "code",
   "execution_count": 31,
   "id": "db620ad9",
   "metadata": {},
   "outputs": [],
   "source": [
    "data_numeric = pd.read_parquet('dataset_train.parquet', engine='pyarrow', columns=list_columns_numeric)"
   ]
  },
  {
   "cell_type": "code",
   "execution_count": 32,
   "id": "5b693101",
   "metadata": {},
   "outputs": [
    {
     "data": {
      "text/plain": [
       "0"
      ]
     },
     "execution_count": 32,
     "metadata": {},
     "output_type": "execute_result"
    }
   ],
   "source": [
    "for column in list_columns_numeric:\n",
    "    data_numeric[column].fillna(data_numeric[column].median(), inplace = True)\n",
    "data_numeric.isna().sum().max()"
   ]
  },
  {
   "cell_type": "code",
   "execution_count": 33,
   "id": "8844c0cd",
   "metadata": {},
   "outputs": [],
   "source": [
    "# Датафрейм с заполненными пропусками\n",
    "data_fill = data_numeric.join(data_cat)\n",
    "data_numeric = []\n",
    "data_cat = []"
   ]
  },
  {
   "cell_type": "markdown",
   "id": "4f478421",
   "metadata": {},
   "source": [
    "#### Отбор значимых признаков"
   ]
  },
  {
   "cell_type": "code",
   "execution_count": 34,
   "id": "efdc5412",
   "metadata": {},
   "outputs": [],
   "source": [
    "# Задаем объясняемую и объясняющие переменные\n",
    "features = data_fill.drop(columns=['target', 'period'])\n",
    "target = data_fill['target']"
   ]
  },
  {
   "cell_type": "code",
   "execution_count": 35,
   "id": "1727e3b4",
   "metadata": {},
   "outputs": [],
   "source": [
    "# Оределеяем константу для random_state\n",
    "STATE = 442\n",
    "\n",
    "# Создаем метрику качества для GridSearch\n",
    "roc_auc_scorer = make_scorer(roc_auc_score, greater_is_better=True,\n",
    "                             needs_threshold=True)\n",
    "\n",
    "\n",
    "# Определяем модель\n",
    "model = lgb.LGBMClassifier(random_state = STATE)\n",
    "\n",
    "# Задаем параметры для GridSearchCV\n",
    "params = {\n",
    "     'max_depth': [10],\n",
    "     'reg_alpha':[0.01],\n",
    "     'num_leaves': [5]}"
   ]
  },
  {
   "cell_type": "code",
   "execution_count": 36,
   "id": "4cc70abd",
   "metadata": {
    "scrolled": true
   },
   "outputs": [
    {
     "name": "stdout",
     "output_type": "stream",
     "text": [
      "ROC-AUC для лучшей модели бустинга составило: -0.704455\n",
      "Гиперпараметры лучшей модели: {'max_depth': 10, 'num_leaves': 5, 'reg_alpha': 0.01}\n",
      "Wall time: 14min 30s\n"
     ]
    }
   ],
   "source": [
    "%%time\n",
    "# Настраиваем GridSearch\n",
    "grid_lgbm = GridSearchCV(model, \n",
    "                         params, \n",
    "                         cv = 3, \n",
    "                         scoring = roc_auc_scorer, \n",
    "                         n_jobs = -1)\n",
    "\n",
    "# Находим модель с лучшим значением метрики\n",
    "grid_lgbm.fit(features[features.columns.tolist()], target)\n",
    "\n",
    "\n",
    "print(f'ROC-AUC для лучшей модели бустинга составило: '\n",
    "      f'{-grid_lgbm.best_score_:.6}')\n",
    "print(f'Гиперпараметры лучшей модели: {grid_lgbm.best_params_}')"
   ]
  },
  {
   "cell_type": "code",
   "execution_count": 37,
   "id": "015bd0c9",
   "metadata": {},
   "outputs": [],
   "source": [
    "# Достаем значимость объясняющих переменных\n",
    "importances = grid_lgbm.best_estimator_.feature_importances_\n",
    "\n",
    "# Создаем датафрейм\n",
    "data_tuples = list(zip(features.columns.tolist(), importances.tolist()))\n",
    "feat_imp_df = pd.DataFrame(data_tuples, columns=['feature','importance'])"
   ]
  },
  {
   "cell_type": "code",
   "execution_count": 38,
   "id": "962d67df",
   "metadata": {},
   "outputs": [],
   "source": [
    "# Формируем список объясняющих переменных с ненулевой значимостью\n",
    "list_columns = feat_imp_df.feature.tolist()\n",
    "list_feat = feat_imp_df.query('importance == 0').feature.tolist()\n",
    "list_feat_imp = list(set(list_columns) - set(list_feat))"
   ]
  },
  {
   "cell_type": "code",
   "execution_count": 39,
   "id": "6efb2737",
   "metadata": {},
   "outputs": [],
   "source": [
    "# Переопределяем набор объясняющих переменных для модели\n",
    "features = features[list_feat_imp]"
   ]
  },
  {
   "cell_type": "code",
   "execution_count": 40,
   "id": "d2c45c09",
   "metadata": {},
   "outputs": [
    {
     "name": "stdout",
     "output_type": "stream",
     "text": [
      "ROC-AUC для лучшей модели бустинга составило: -0.705403\n",
      "Wall time: 29 s\n"
     ]
    }
   ],
   "source": [
    "%%time\n",
    "\n",
    "# Переобучаем модель\n",
    "grid_lgbm.fit(features[features.columns.tolist()], target)\n",
    "\n",
    "print(f'ROC-AUC для лучшей модели бустинга составило: '\n",
    "      f'{-grid_lgbm.best_score_:.6}')"
   ]
  },
  {
   "cell_type": "code",
   "execution_count": 41,
   "id": "634a15f5",
   "metadata": {},
   "outputs": [
    {
     "data": {
      "text/html": [
       "<div>\n",
       "<style scoped>\n",
       "    .dataframe tbody tr th:only-of-type {\n",
       "        vertical-align: middle;\n",
       "    }\n",
       "\n",
       "    .dataframe tbody tr th {\n",
       "        vertical-align: top;\n",
       "    }\n",
       "\n",
       "    .dataframe thead th {\n",
       "        text-align: right;\n",
       "    }\n",
       "</style>\n",
       "<table border=\"1\" class=\"dataframe\">\n",
       "  <thead>\n",
       "    <tr style=\"text-align: right;\">\n",
       "      <th></th>\n",
       "      <th>feature</th>\n",
       "      <th>importance</th>\n",
       "    </tr>\n",
       "  </thead>\n",
       "  <tbody>\n",
       "    <tr>\n",
       "      <th>2</th>\n",
       "      <td>communication_availability_40_1_ctg</td>\n",
       "      <td>16</td>\n",
       "    </tr>\n",
       "    <tr>\n",
       "      <th>81</th>\n",
       "      <td>tariff_plans_21_1_max</td>\n",
       "      <td>14</td>\n",
       "    </tr>\n",
       "    <tr>\n",
       "      <th>4</th>\n",
       "      <td>traffic_details_62_1_sum</td>\n",
       "      <td>14</td>\n",
       "    </tr>\n",
       "    <tr>\n",
       "      <th>126</th>\n",
       "      <td>materials_details_12_1_flg</td>\n",
       "      <td>13</td>\n",
       "    </tr>\n",
       "    <tr>\n",
       "      <th>92</th>\n",
       "      <td>spas_symptoms_agr_79_6_sum</td>\n",
       "      <td>12</td>\n",
       "    </tr>\n",
       "    <tr>\n",
       "      <th>...</th>\n",
       "      <td>...</td>\n",
       "      <td>...</td>\n",
       "    </tr>\n",
       "    <tr>\n",
       "      <th>66</th>\n",
       "      <td>traffic_details_1_3_cnt</td>\n",
       "      <td>1</td>\n",
       "    </tr>\n",
       "    <tr>\n",
       "      <th>62</th>\n",
       "      <td>traffic_details_42_1_avg</td>\n",
       "      <td>1</td>\n",
       "    </tr>\n",
       "    <tr>\n",
       "      <th>59</th>\n",
       "      <td>spas_symptoms_agr_38_3_avg</td>\n",
       "      <td>1</td>\n",
       "    </tr>\n",
       "    <tr>\n",
       "      <th>56</th>\n",
       "      <td>payments_details_47_3_avg</td>\n",
       "      <td>1</td>\n",
       "    </tr>\n",
       "    <tr>\n",
       "      <th>149</th>\n",
       "      <td>spas_symptoms_int_72_1_cnt</td>\n",
       "      <td>1</td>\n",
       "    </tr>\n",
       "  </tbody>\n",
       "</table>\n",
       "<p>150 rows × 2 columns</p>\n",
       "</div>"
      ],
      "text/plain": [
       "                                 feature  importance\n",
       "2    communication_availability_40_1_ctg          16\n",
       "81                 tariff_plans_21_1_max          14\n",
       "4               traffic_details_62_1_sum          14\n",
       "126           materials_details_12_1_flg          13\n",
       "92            spas_symptoms_agr_79_6_sum          12\n",
       "..                                   ...         ...\n",
       "66               traffic_details_1_3_cnt           1\n",
       "62              traffic_details_42_1_avg           1\n",
       "59            spas_symptoms_agr_38_3_avg           1\n",
       "56             payments_details_47_3_avg           1\n",
       "149           spas_symptoms_int_72_1_cnt           1\n",
       "\n",
       "[150 rows x 2 columns]"
      ]
     },
     "execution_count": 41,
     "metadata": {},
     "output_type": "execute_result"
    }
   ],
   "source": [
    "# Формируем список фичей с ненулевой значимостью\n",
    "importances = grid_lgbm.best_estimator_.feature_importances_\n",
    "data_tuples = list(zip(features.columns.tolist(), importances.tolist()))\n",
    "feat_imp_df = pd.DataFrame(data_tuples, columns=['feature','importance'])\n",
    "feat_imp_df.sort_values(by = 'importance', ascending = False)"
   ]
  },
  {
   "cell_type": "code",
   "execution_count": 42,
   "id": "4e822f0d",
   "metadata": {},
   "outputs": [],
   "source": [
    "# Экспортируем файл\n",
    "feat_imp_df.to_csv (r'C:\\Users\\anato\\Desktop\\ds\\Хакатон R1\\2nd_part_features.csv', index= False )"
   ]
  },
  {
   "cell_type": "markdown",
   "id": "494f9d80",
   "metadata": {},
   "source": [
    "### Часть 3"
   ]
  },
  {
   "cell_type": "code",
   "execution_count": 101,
   "id": "06d575e4",
   "metadata": {},
   "outputs": [],
   "source": [
    "# Формируем список фичей для выгрузки из панельки\n",
    "list_columns = data_columns[1800:].column.tolist()\n",
    "list_columns.insert(0, 'target')\n",
    "list_columns.insert(1, 'period')"
   ]
  },
  {
   "cell_type": "code",
   "execution_count": 102,
   "id": "4d42f698",
   "metadata": {},
   "outputs": [],
   "source": [
    "# Выгружаем данные\n",
    "data = pd.read_parquet('dataset_train.parquet', engine='pyarrow', columns=list_columns)"
   ]
  },
  {
   "cell_type": "code",
   "execution_count": 105,
   "id": "9b869691",
   "metadata": {},
   "outputs": [
    {
     "data": {
      "text/plain": [
       "0.0077896440037260395"
      ]
     },
     "execution_count": 105,
     "metadata": {},
     "output_type": "execute_result"
    }
   ],
   "source": [
    "# Баланс классов\n",
    "data.target.sum() / data.target.count()"
   ]
  },
  {
   "cell_type": "code",
   "execution_count": 106,
   "id": "c2245f68",
   "metadata": {},
   "outputs": [
    {
     "data": {
      "text/plain": [
       "334"
      ]
     },
     "execution_count": 106,
     "metadata": {},
     "output_type": "execute_result"
    }
   ],
   "source": [
    "# Считаем фичи с долей пропусков более 50%\n",
    "list_feat = []\n",
    "for column in data_columns[1800:].column.tolist():\n",
    "    if data[column].isna().sum() / data[column].isna().count() > 0.5:\n",
    "        list_feat.append(column)\n",
    "len(list_feat)"
   ]
  },
  {
   "cell_type": "code",
   "execution_count": 107,
   "id": "d621d605",
   "metadata": {},
   "outputs": [
    {
     "data": {
      "text/plain": [
       "644"
      ]
     },
     "execution_count": 107,
     "metadata": {},
     "output_type": "execute_result"
    }
   ],
   "source": [
    "# Формируем список без фичей с пропусками\n",
    "list_wo_miss = list(set(list_columns) - set(list_feat))\n",
    "len(list_wo_miss)"
   ]
  },
  {
   "cell_type": "code",
   "execution_count": 108,
   "id": "b1ca77fa",
   "metadata": {},
   "outputs": [],
   "source": [
    "# Переопределяем датафрейм с фичами для выгрузки\n",
    "data_columns = data_columns.loc[data_columns['column'].isin(list_wo_miss)]\n",
    "\n",
    "# Разбиваем полученный датасет на фичи по типу\n",
    "data_columns_numeric = data_columns.loc[data_columns['type'] == 'numeric']\n",
    "\n",
    "data_columns_cat = data_columns.loc[(data_columns['type'] == 'categorical_int') | \n",
    "                                    (data_columns['type'] == 'categorical_str')]"
   ]
  },
  {
   "cell_type": "code",
   "execution_count": 109,
   "id": "bd9403ea",
   "metadata": {},
   "outputs": [],
   "source": [
    "# Формируем список фичей для выгрузки из панельки\n",
    "list_columns_numeric = data_columns_numeric.column.tolist()\n",
    "list_columns_numeric.insert(0, 'target')\n",
    "list_columns_numeric.insert(1, 'period')\n",
    "\n",
    "list_columns_cat = data_columns_cat.column.tolist()"
   ]
  },
  {
   "cell_type": "code",
   "execution_count": 110,
   "id": "05ab73d8",
   "metadata": {},
   "outputs": [
    {
     "data": {
      "text/plain": [
       "0"
      ]
     },
     "execution_count": 110,
     "metadata": {},
     "output_type": "execute_result"
    }
   ],
   "source": [
    "data_cat = pd.read_parquet('dataset_train.parquet', engine='pyarrow', columns=list_columns_cat)\n",
    "data_cat.isna().sum().max()\n",
    "# пропусков нет "
   ]
  },
  {
   "cell_type": "code",
   "execution_count": 111,
   "id": "669f551c",
   "metadata": {},
   "outputs": [],
   "source": [
    "data_numeric = pd.read_parquet('dataset_train.parquet', engine='pyarrow', columns=list_columns_numeric)"
   ]
  },
  {
   "cell_type": "code",
   "execution_count": 112,
   "id": "4ebd13e4",
   "metadata": {},
   "outputs": [
    {
     "data": {
      "text/plain": [
       "0"
      ]
     },
     "execution_count": 112,
     "metadata": {},
     "output_type": "execute_result"
    }
   ],
   "source": [
    "for column in list_columns_numeric:\n",
    "    data_numeric[column].fillna(data_numeric[column].median(), inplace = True)\n",
    "data_numeric.isna().sum().max()"
   ]
  },
  {
   "cell_type": "code",
   "execution_count": 113,
   "id": "7ad87f59",
   "metadata": {},
   "outputs": [],
   "source": [
    "# Датафрейм с заполненными пропусками\n",
    "data_fill = data_numeric.join(data_cat)\n",
    "data_numeric = []\n",
    "data_cat = []"
   ]
  },
  {
   "cell_type": "markdown",
   "id": "19ee7455",
   "metadata": {},
   "source": [
    "#### Отбор значимых признаков"
   ]
  },
  {
   "cell_type": "code",
   "execution_count": 114,
   "id": "ba6ae972",
   "metadata": {},
   "outputs": [],
   "source": [
    "# Задаем объясняемую и объясняющие переменные\n",
    "features = data_fill.drop(columns=['target', 'period'])\n",
    "target = data_fill['target']"
   ]
  },
  {
   "cell_type": "code",
   "execution_count": 115,
   "id": "906d3137",
   "metadata": {},
   "outputs": [],
   "source": [
    "# Оределеяем константу для random_state\n",
    "STATE = 442\n",
    "\n",
    "# Создаем метрику качества для GridSearch\n",
    "roc_auc_scorer = make_scorer(roc_auc_score, greater_is_better=True,\n",
    "                             needs_threshold=True)\n",
    "\n",
    "\n",
    "# Определяем модель\n",
    "model = lgb.LGBMClassifier(random_state = STATE)\n",
    "\n",
    "# Задаем параметры для GridSearchCV\n",
    "params = {\n",
    "     'max_depth': [10],\n",
    "     'reg_alpha':[0.01],\n",
    "     'num_leaves': [5]}"
   ]
  },
  {
   "cell_type": "code",
   "execution_count": 116,
   "id": "b616182b",
   "metadata": {
    "scrolled": true
   },
   "outputs": [
    {
     "name": "stdout",
     "output_type": "stream",
     "text": [
      "ROC-AUC для лучшей модели бустинга составило: -0.695905\n",
      "Гиперпараметры лучшей модели: {'max_depth': 10, 'num_leaves': 5, 'reg_alpha': 0.01}\n",
      "Wall time: 9min 19s\n",
      "Parser   : 131 ms\n"
     ]
    }
   ],
   "source": [
    "%%time\n",
    "# Настраиваем GridSearch\n",
    "grid_lgbm = GridSearchCV(model, \n",
    "                         params, \n",
    "                         cv = 3, \n",
    "                         scoring = roc_auc_scorer, \n",
    "                         n_jobs = -1)\n",
    "\n",
    "# Находим модель с лучшим значением метрики\n",
    "grid_lgbm.fit(features[features.columns.tolist()], target)\n",
    "\n",
    "\n",
    "print(f'ROC-AUC для лучшей модели бустинга составило: '\n",
    "      f'{-grid_lgbm.best_score_:.6}')\n",
    "print(f'Гиперпараметры лучшей модели: {grid_lgbm.best_params_}')"
   ]
  },
  {
   "cell_type": "code",
   "execution_count": 117,
   "id": "4b793436",
   "metadata": {},
   "outputs": [],
   "source": [
    "# Достаем значимость объясняющих переменных\n",
    "importances = grid_lgbm.best_estimator_.feature_importances_\n",
    "\n",
    "# Создаем датафрейм\n",
    "data_tuples = list(zip(features.columns.tolist(), importances.tolist()))\n",
    "feat_imp_df = pd.DataFrame(data_tuples, columns=['feature','importance'])"
   ]
  },
  {
   "cell_type": "code",
   "execution_count": 118,
   "id": "a0e0958c",
   "metadata": {},
   "outputs": [],
   "source": [
    "# Формируем список объясняющих переменных с ненулевой значимостью\n",
    "list_columns = feat_imp_df.feature.tolist()\n",
    "list_feat = feat_imp_df.query('importance == 0').feature.tolist()\n",
    "list_feat_imp = list(set(list_columns) - set(list_feat))"
   ]
  },
  {
   "cell_type": "code",
   "execution_count": 119,
   "id": "1c4424c7",
   "metadata": {},
   "outputs": [],
   "source": [
    "# Переопределяем набор объясняющих переменных для модели\n",
    "features = features[list_feat_imp]"
   ]
  },
  {
   "cell_type": "code",
   "execution_count": 120,
   "id": "7ce73c84",
   "metadata": {},
   "outputs": [
    {
     "name": "stdout",
     "output_type": "stream",
     "text": [
      "ROC-AUC для лучшей модели бустинга составило: -0.697521\n",
      "Wall time: 30.1 s\n"
     ]
    }
   ],
   "source": [
    "%%time\n",
    "\n",
    "# Переобучаем модель\n",
    "grid_lgbm.fit(features[features.columns.tolist()], target)\n",
    "\n",
    "print(f'ROC-AUC для лучшей модели бустинга составило: '\n",
    "      f'{-grid_lgbm.best_score_:.6}')"
   ]
  },
  {
   "cell_type": "code",
   "execution_count": 121,
   "id": "e68f3838",
   "metadata": {},
   "outputs": [
    {
     "data": {
      "text/html": [
       "<div>\n",
       "<style scoped>\n",
       "    .dataframe tbody tr th:only-of-type {\n",
       "        vertical-align: middle;\n",
       "    }\n",
       "\n",
       "    .dataframe tbody tr th {\n",
       "        vertical-align: top;\n",
       "    }\n",
       "\n",
       "    .dataframe thead th {\n",
       "        text-align: right;\n",
       "    }\n",
       "</style>\n",
       "<table border=\"1\" class=\"dataframe\">\n",
       "  <thead>\n",
       "    <tr style=\"text-align: right;\">\n",
       "      <th></th>\n",
       "      <th>feature</th>\n",
       "      <th>importance</th>\n",
       "    </tr>\n",
       "  </thead>\n",
       "  <tbody>\n",
       "    <tr>\n",
       "      <th>43</th>\n",
       "      <td>type_av_100_0_1_ctg</td>\n",
       "      <td>19</td>\n",
       "    </tr>\n",
       "    <tr>\n",
       "      <th>53</th>\n",
       "      <td>basic_info_0_0_avg</td>\n",
       "      <td>13</td>\n",
       "    </tr>\n",
       "    <tr>\n",
       "      <th>72</th>\n",
       "      <td>materials_details_13_1_ctg</td>\n",
       "      <td>12</td>\n",
       "    </tr>\n",
       "    <tr>\n",
       "      <th>60</th>\n",
       "      <td>user_devices_30_1_cnt</td>\n",
       "      <td>10</td>\n",
       "    </tr>\n",
       "    <tr>\n",
       "      <th>78</th>\n",
       "      <td>campaigns_250_1_sum</td>\n",
       "      <td>10</td>\n",
       "    </tr>\n",
       "    <tr>\n",
       "      <th>...</th>\n",
       "      <td>...</td>\n",
       "      <td>...</td>\n",
       "    </tr>\n",
       "    <tr>\n",
       "      <th>46</th>\n",
       "      <td>markers_830_1_cnt</td>\n",
       "      <td>0</td>\n",
       "    </tr>\n",
       "    <tr>\n",
       "      <th>50</th>\n",
       "      <td>spas_symptoms_agr_286_12_sum</td>\n",
       "      <td>0</td>\n",
       "    </tr>\n",
       "    <tr>\n",
       "      <th>62</th>\n",
       "      <td>markers_852_1_cnt</td>\n",
       "      <td>0</td>\n",
       "    </tr>\n",
       "    <tr>\n",
       "      <th>73</th>\n",
       "      <td>campaigns_392_3_part</td>\n",
       "      <td>0</td>\n",
       "    </tr>\n",
       "    <tr>\n",
       "      <th>99</th>\n",
       "      <td>markers_929_1_cnt</td>\n",
       "      <td>0</td>\n",
       "    </tr>\n",
       "  </tbody>\n",
       "</table>\n",
       "<p>130 rows × 2 columns</p>\n",
       "</div>"
      ],
      "text/plain": [
       "                         feature  importance\n",
       "43           type_av_100_0_1_ctg          19\n",
       "53            basic_info_0_0_avg          13\n",
       "72    materials_details_13_1_ctg          12\n",
       "60         user_devices_30_1_cnt          10\n",
       "78           campaigns_250_1_sum          10\n",
       "..                           ...         ...\n",
       "46             markers_830_1_cnt           0\n",
       "50  spas_symptoms_agr_286_12_sum           0\n",
       "62             markers_852_1_cnt           0\n",
       "73          campaigns_392_3_part           0\n",
       "99             markers_929_1_cnt           0\n",
       "\n",
       "[130 rows x 2 columns]"
      ]
     },
     "execution_count": 121,
     "metadata": {},
     "output_type": "execute_result"
    }
   ],
   "source": [
    "# Формируем список фичей с ненулевой значимостью\n",
    "importances = grid_lgbm.best_estimator_.feature_importances_\n",
    "data_tuples = list(zip(features.columns.tolist(), importances.tolist()))\n",
    "feat_imp_df = pd.DataFrame(data_tuples, columns=['feature','importance'])\n",
    "feat_imp_df.sort_values(by = 'importance', ascending = False)"
   ]
  },
  {
   "cell_type": "code",
   "execution_count": 122,
   "id": "a04e2c62",
   "metadata": {},
   "outputs": [],
   "source": [
    "# Формируем список объясняющих переменных с ненулевой значимостью\n",
    "list_columns = feat_imp_df.feature.tolist()\n",
    "list_feat = feat_imp_df.query('importance == 0').feature.tolist()\n",
    "list_feat_imp = list(set(list_columns) - set(list_feat))"
   ]
  },
  {
   "cell_type": "code",
   "execution_count": 123,
   "id": "37f84c74",
   "metadata": {},
   "outputs": [],
   "source": [
    "# Переопределяем набор объясняющих переменных для модели\n",
    "features = features[list_feat_imp]"
   ]
  },
  {
   "cell_type": "code",
   "execution_count": 124,
   "id": "ad772a4d",
   "metadata": {},
   "outputs": [
    {
     "name": "stdout",
     "output_type": "stream",
     "text": [
      "ROC-AUC для лучшей модели бустинга составило: -0.696898\n",
      "Wall time: 1min 5s\n"
     ]
    }
   ],
   "source": [
    "%%time\n",
    "\n",
    "# Переобучаем модель\n",
    "grid_lgbm.fit(features[features.columns.tolist()], target)\n",
    "\n",
    "print(f'ROC-AUC для лучшей модели бустинга составило: '\n",
    "      f'{-grid_lgbm.best_score_:.6}')"
   ]
  },
  {
   "cell_type": "code",
   "execution_count": 125,
   "id": "5bc7b208",
   "metadata": {},
   "outputs": [
    {
     "data": {
      "text/html": [
       "<div>\n",
       "<style scoped>\n",
       "    .dataframe tbody tr th:only-of-type {\n",
       "        vertical-align: middle;\n",
       "    }\n",
       "\n",
       "    .dataframe tbody tr th {\n",
       "        vertical-align: top;\n",
       "    }\n",
       "\n",
       "    .dataframe thead th {\n",
       "        text-align: right;\n",
       "    }\n",
       "</style>\n",
       "<table border=\"1\" class=\"dataframe\">\n",
       "  <thead>\n",
       "    <tr style=\"text-align: right;\">\n",
       "      <th></th>\n",
       "      <th>feature</th>\n",
       "      <th>importance</th>\n",
       "    </tr>\n",
       "  </thead>\n",
       "  <tbody>\n",
       "    <tr>\n",
       "      <th>43</th>\n",
       "      <td>type_av_100_0_1_ctg</td>\n",
       "      <td>19</td>\n",
       "    </tr>\n",
       "    <tr>\n",
       "      <th>51</th>\n",
       "      <td>basic_info_0_0_avg</td>\n",
       "      <td>13</td>\n",
       "    </tr>\n",
       "    <tr>\n",
       "      <th>68</th>\n",
       "      <td>materials_details_13_1_ctg</td>\n",
       "      <td>12</td>\n",
       "    </tr>\n",
       "    <tr>\n",
       "      <th>58</th>\n",
       "      <td>user_devices_30_1_cnt</td>\n",
       "      <td>10</td>\n",
       "    </tr>\n",
       "    <tr>\n",
       "      <th>73</th>\n",
       "      <td>campaigns_250_1_sum</td>\n",
       "      <td>10</td>\n",
       "    </tr>\n",
       "    <tr>\n",
       "      <th>...</th>\n",
       "      <td>...</td>\n",
       "      <td>...</td>\n",
       "    </tr>\n",
       "    <tr>\n",
       "      <th>93</th>\n",
       "      <td>campaigns_401_3_part</td>\n",
       "      <td>1</td>\n",
       "    </tr>\n",
       "    <tr>\n",
       "      <th>25</th>\n",
       "      <td>campaigns_386_6_cnt</td>\n",
       "      <td>1</td>\n",
       "    </tr>\n",
       "    <tr>\n",
       "      <th>24</th>\n",
       "      <td>user_active_18_1_flg</td>\n",
       "      <td>1</td>\n",
       "    </tr>\n",
       "    <tr>\n",
       "      <th>96</th>\n",
       "      <td>campaigns_402_3_sum</td>\n",
       "      <td>1</td>\n",
       "    </tr>\n",
       "    <tr>\n",
       "      <th>60</th>\n",
       "      <td>campaigns_393_3_sum</td>\n",
       "      <td>1</td>\n",
       "    </tr>\n",
       "  </tbody>\n",
       "</table>\n",
       "<p>120 rows × 2 columns</p>\n",
       "</div>"
      ],
      "text/plain": [
       "                       feature  importance\n",
       "43         type_av_100_0_1_ctg          19\n",
       "51          basic_info_0_0_avg          13\n",
       "68  materials_details_13_1_ctg          12\n",
       "58       user_devices_30_1_cnt          10\n",
       "73         campaigns_250_1_sum          10\n",
       "..                         ...         ...\n",
       "93        campaigns_401_3_part           1\n",
       "25         campaigns_386_6_cnt           1\n",
       "24        user_active_18_1_flg           1\n",
       "96         campaigns_402_3_sum           1\n",
       "60         campaigns_393_3_sum           1\n",
       "\n",
       "[120 rows x 2 columns]"
      ]
     },
     "execution_count": 125,
     "metadata": {},
     "output_type": "execute_result"
    }
   ],
   "source": [
    "# Формируем список фичей с ненулевой значимостью\n",
    "importances = grid_lgbm.best_estimator_.feature_importances_\n",
    "data_tuples = list(zip(features.columns.tolist(), importances.tolist()))\n",
    "feat_imp_df = pd.DataFrame(data_tuples, columns=['feature','importance'])\n",
    "feat_imp_df.sort_values(by = 'importance', ascending = False)"
   ]
  },
  {
   "cell_type": "code",
   "execution_count": 126,
   "id": "4c504b64",
   "metadata": {},
   "outputs": [],
   "source": [
    "# Экспортируем файл\n",
    "feat_imp_df.to_csv (r'C:\\Users\\anato\\Desktop\\ds\\Хакатон R1\\3rd_part_features.csv', index= False )"
   ]
  },
  {
   "cell_type": "markdown",
   "id": "b247a6b9",
   "metadata": {},
   "source": [
    "## Отбор итоговых признаков"
   ]
  },
  {
   "cell_type": "code",
   "execution_count": 127,
   "id": "64c16525",
   "metadata": {},
   "outputs": [],
   "source": [
    "column_first = pd.read_csv('1st_part_features.csv')\n",
    "column_second = pd.read_csv('2nd_part_features.csv')\n",
    "column_third = pd.read_csv('3rd_part_features.csv')"
   ]
  },
  {
   "cell_type": "code",
   "execution_count": 128,
   "id": "08e68d23",
   "metadata": {},
   "outputs": [],
   "source": [
    "column_first = column_first.feature.tolist()\n",
    "column_second = column_second.feature.tolist()\n",
    "column_third = column_third.feature.tolist()"
   ]
  },
  {
   "cell_type": "code",
   "execution_count": 129,
   "id": "2f426eb5",
   "metadata": {},
   "outputs": [],
   "source": [
    "columns_imp = column_first + column_second + column_third\n",
    "#column_first, column_second, column_third = [], [], []"
   ]
  },
  {
   "cell_type": "code",
   "execution_count": 130,
   "id": "d48f4393",
   "metadata": {},
   "outputs": [],
   "source": [
    "# Считываем названия фичей, преобразуем в датафрейм\n",
    "columns = pd.read_json('features_types.json', typ='series')\n",
    "data_columns = pd.DataFrame(columns).reset_index()\n",
    "data_columns.rename(columns = {'index': 'column', 0: 'type'}, \n",
    "                    inplace = True)\n",
    "\n",
    "#test = pd.read_parquet('features_oot.parquet', engine='pyarrow')"
   ]
  },
  {
   "cell_type": "code",
   "execution_count": 131,
   "id": "675e3a06",
   "metadata": {},
   "outputs": [
    {
     "data": {
      "text/html": [
       "<div>\n",
       "<style scoped>\n",
       "    .dataframe tbody tr th:only-of-type {\n",
       "        vertical-align: middle;\n",
       "    }\n",
       "\n",
       "    .dataframe tbody tr th {\n",
       "        vertical-align: top;\n",
       "    }\n",
       "\n",
       "    .dataframe thead th {\n",
       "        text-align: right;\n",
       "    }\n",
       "</style>\n",
       "<table border=\"1\" class=\"dataframe\">\n",
       "  <thead>\n",
       "    <tr style=\"text-align: right;\">\n",
       "      <th></th>\n",
       "      <th>column</th>\n",
       "      <th>type</th>\n",
       "    </tr>\n",
       "  </thead>\n",
       "  <tbody>\n",
       "    <tr>\n",
       "      <th>0</th>\n",
       "      <td>markers_0_1_cnt</td>\n",
       "      <td>numeric</td>\n",
       "    </tr>\n",
       "    <tr>\n",
       "      <th>1</th>\n",
       "      <td>markers_1_1_cnt</td>\n",
       "      <td>numeric</td>\n",
       "    </tr>\n",
       "    <tr>\n",
       "      <th>2</th>\n",
       "      <td>markers_2_1_cnt</td>\n",
       "      <td>numeric</td>\n",
       "    </tr>\n",
       "    <tr>\n",
       "      <th>3</th>\n",
       "      <td>markers_3_1_cnt</td>\n",
       "      <td>numeric</td>\n",
       "    </tr>\n",
       "    <tr>\n",
       "      <th>4</th>\n",
       "      <td>markers_4_1_cnt</td>\n",
       "      <td>numeric</td>\n",
       "    </tr>\n",
       "    <tr>\n",
       "      <th>...</th>\n",
       "      <td>...</td>\n",
       "      <td>...</td>\n",
       "    </tr>\n",
       "    <tr>\n",
       "      <th>2771</th>\n",
       "      <td>markers_941_1_cnt</td>\n",
       "      <td>numeric</td>\n",
       "    </tr>\n",
       "    <tr>\n",
       "      <th>2772</th>\n",
       "      <td>markers_942_1_cnt</td>\n",
       "      <td>numeric</td>\n",
       "    </tr>\n",
       "    <tr>\n",
       "      <th>2773</th>\n",
       "      <td>markers_943_1_cnt</td>\n",
       "      <td>numeric</td>\n",
       "    </tr>\n",
       "    <tr>\n",
       "      <th>2774</th>\n",
       "      <td>markers_944_1_cnt</td>\n",
       "      <td>numeric</td>\n",
       "    </tr>\n",
       "    <tr>\n",
       "      <th>2775</th>\n",
       "      <td>markers_945_1_cnt</td>\n",
       "      <td>numeric</td>\n",
       "    </tr>\n",
       "  </tbody>\n",
       "</table>\n",
       "<p>2776 rows × 2 columns</p>\n",
       "</div>"
      ],
      "text/plain": [
       "                 column     type\n",
       "0       markers_0_1_cnt  numeric\n",
       "1       markers_1_1_cnt  numeric\n",
       "2       markers_2_1_cnt  numeric\n",
       "3       markers_3_1_cnt  numeric\n",
       "4       markers_4_1_cnt  numeric\n",
       "...                 ...      ...\n",
       "2771  markers_941_1_cnt  numeric\n",
       "2772  markers_942_1_cnt  numeric\n",
       "2773  markers_943_1_cnt  numeric\n",
       "2774  markers_944_1_cnt  numeric\n",
       "2775  markers_945_1_cnt  numeric\n",
       "\n",
       "[2776 rows x 2 columns]"
      ]
     },
     "execution_count": 131,
     "metadata": {},
     "output_type": "execute_result"
    }
   ],
   "source": [
    "data_columns"
   ]
  },
  {
   "cell_type": "code",
   "execution_count": 132,
   "id": "3d49d658",
   "metadata": {},
   "outputs": [],
   "source": [
    "data_columns_imp = pd.DataFrame(columns_imp)\n",
    "data_columns_imp.rename(columns = {0: 'column'}, \n",
    "                    inplace = True)"
   ]
  },
  {
   "cell_type": "code",
   "execution_count": 133,
   "id": "a78382af",
   "metadata": {},
   "outputs": [],
   "source": [
    "data_columns_imp = data_columns_imp.merge(data_columns, on = 'column')\n",
    "columns_imp.insert(0, 'target')\n",
    "columns_imp.insert(1, 'period')"
   ]
  },
  {
   "cell_type": "code",
   "execution_count": 134,
   "id": "feb8b367",
   "metadata": {},
   "outputs": [],
   "source": [
    "# Выгружаем данные\n",
    "data = pd.read_parquet('dataset_train.parquet', engine='pyarrow', columns=columns_imp)"
   ]
  },
  {
   "cell_type": "code",
   "execution_count": 135,
   "id": "7fe025fe",
   "metadata": {},
   "outputs": [],
   "source": [
    "# Разбиваем полученный датасет на фичи по типу\n",
    "data_columns_numeric = data_columns_imp.loc[data_columns_imp['type'] == 'numeric']\n",
    "\n",
    "data_columns_cat = data_columns_imp.loc[(data_columns_imp['type'] == 'categorical_int') | \n",
    "                                        (data_columns_imp['type'] == 'categorical_str')]"
   ]
  },
  {
   "cell_type": "code",
   "execution_count": 136,
   "id": "7943ce80",
   "metadata": {},
   "outputs": [],
   "source": [
    "# Формируем список фичей для выгрузки из панельки\n",
    "list_columns_numeric = data_columns_numeric.column.tolist()\n",
    "list_columns_numeric.insert(0, 'target')\n",
    "list_columns_numeric.insert(1, 'period')\n",
    "\n",
    "list_columns_cat = data_columns_cat.column.tolist()"
   ]
  },
  {
   "cell_type": "code",
   "execution_count": 137,
   "id": "59e5298e",
   "metadata": {},
   "outputs": [
    {
     "data": {
      "text/plain": [
       "0"
      ]
     },
     "execution_count": 137,
     "metadata": {},
     "output_type": "execute_result"
    }
   ],
   "source": [
    "data_cat = pd.read_parquet('dataset_train.parquet', engine='pyarrow', columns=list_columns_cat)\n",
    "data_cat.isna().sum().max()\n",
    "# пропусков нет "
   ]
  },
  {
   "cell_type": "code",
   "execution_count": 138,
   "id": "413828aa",
   "metadata": {},
   "outputs": [],
   "source": [
    "data_numeric = pd.read_parquet('dataset_train.parquet', engine='pyarrow', columns=list_columns_numeric)"
   ]
  },
  {
   "cell_type": "code",
   "execution_count": 139,
   "id": "a35dd119",
   "metadata": {},
   "outputs": [
    {
     "data": {
      "text/plain": [
       "0"
      ]
     },
     "execution_count": 139,
     "metadata": {},
     "output_type": "execute_result"
    }
   ],
   "source": [
    "for column in list_columns_numeric:\n",
    "    data_numeric[column].fillna(data_numeric[column].median(), inplace = True)\n",
    "data_numeric.isna().sum().max()"
   ]
  },
  {
   "cell_type": "code",
   "execution_count": 140,
   "id": "4f44ab49",
   "metadata": {},
   "outputs": [],
   "source": [
    "# Датафрейм с заполненными пропусками\n",
    "data_fill = data_numeric.join(data_cat)\n",
    "data_numeric = []\n",
    "data_cat = []"
   ]
  },
  {
   "cell_type": "markdown",
   "id": "ba043d0d",
   "metadata": {},
   "source": [
    "# Предобработка признаков для обучения модели"
   ]
  },
  {
   "cell_type": "code",
   "execution_count": 141,
   "id": "e9d6dd06",
   "metadata": {},
   "outputs": [],
   "source": [
    "columns_imp = pd.read_csv('full_features_with_drop.csv')\n",
    "columns_imp = columns_imp.feature.tolist()"
   ]
  },
  {
   "cell_type": "code",
   "execution_count": 142,
   "id": "f44686a7",
   "metadata": {},
   "outputs": [],
   "source": [
    "# Считываем названия фичей, преобразуем в датафрейм\n",
    "columns = pd.read_json('features_types.json', typ='series')\n",
    "data_columns = pd.DataFrame(columns).reset_index()\n",
    "data_columns.rename(columns = {'index': 'column', 0: 'type'}, \n",
    "                    inplace = True)\n",
    "\n",
    "#test = pd.read_parquet('features_oot.parquet', engine='pyarrow')"
   ]
  },
  {
   "cell_type": "code",
   "execution_count": 143,
   "id": "e07a9baf",
   "metadata": {},
   "outputs": [],
   "source": [
    "data_columns = pd.DataFrame(columns).reset_index()\n",
    "data_columns.rename(columns = {'index': 'column', 0: 'type'}, \n",
    "                    inplace = True)"
   ]
  },
  {
   "cell_type": "code",
   "execution_count": 144,
   "id": "1bd12525",
   "metadata": {},
   "outputs": [],
   "source": [
    "data_columns_imp = pd.DataFrame(columns_imp)\n",
    "data_columns_imp.rename(columns = {0: 'column'}, \n",
    "                    inplace = True)"
   ]
  },
  {
   "cell_type": "code",
   "execution_count": 145,
   "id": "5cd59b91",
   "metadata": {},
   "outputs": [],
   "source": [
    "data_columns_imp = data_columns_imp.merge(data_columns, on = 'column')\n",
    "columns_imp.insert(0, 'target')\n",
    "columns_imp.insert(1, 'period')"
   ]
  },
  {
   "cell_type": "code",
   "execution_count": 146,
   "id": "e2f992b1",
   "metadata": {},
   "outputs": [],
   "source": [
    "# Выгружаем данные\n",
    "data = pd.read_parquet('dataset_train.parquet', engine='pyarrow', columns=columns_imp)"
   ]
  },
  {
   "cell_type": "code",
   "execution_count": 147,
   "id": "454ba4ea",
   "metadata": {},
   "outputs": [],
   "source": [
    "# Разбиваем полученный датасет на фичи по типу\n",
    "data_columns_numeric = data_columns_imp.loc[data_columns_imp['type'] == 'numeric']\n",
    "\n",
    "data_columns_cat = data_columns_imp.loc[(data_columns_imp['type'] == 'categorical_int') | \n",
    "                                        (data_columns_imp['type'] == 'categorical_str')]"
   ]
  },
  {
   "cell_type": "code",
   "execution_count": 148,
   "id": "a92961fe",
   "metadata": {},
   "outputs": [],
   "source": [
    "# Формируем список фичей для выгрузки из панельки\n",
    "list_columns_numeric = data_columns_numeric.column.tolist()\n",
    "list_columns_numeric.insert(0, 'target')\n",
    "list_columns_numeric.insert(1, 'period')\n",
    "\n",
    "list_columns_cat = data_columns_cat.column.tolist()"
   ]
  },
  {
   "cell_type": "code",
   "execution_count": 149,
   "id": "e82c328c",
   "metadata": {},
   "outputs": [
    {
     "data": {
      "text/plain": [
       "0"
      ]
     },
     "execution_count": 149,
     "metadata": {},
     "output_type": "execute_result"
    }
   ],
   "source": [
    "data_cat = pd.read_parquet('dataset_train.parquet', engine='pyarrow', columns=list_columns_cat)\n",
    "data_cat.isna().sum().max()\n",
    "# пропусков нет "
   ]
  },
  {
   "cell_type": "code",
   "execution_count": 150,
   "id": "e08f605b",
   "metadata": {},
   "outputs": [],
   "source": [
    "data_numeric = pd.read_parquet('dataset_train.parquet', engine='pyarrow', columns=list_columns_numeric)"
   ]
  },
  {
   "cell_type": "code",
   "execution_count": 151,
   "id": "2dc00267",
   "metadata": {
    "scrolled": true
   },
   "outputs": [
    {
     "data": {
      "text/plain": [
       "0"
      ]
     },
     "execution_count": 151,
     "metadata": {},
     "output_type": "execute_result"
    }
   ],
   "source": [
    "for column in list_columns_numeric:\n",
    "    data_numeric[column].fillna(data_numeric[column].median(), inplace = True)\n",
    "data_numeric.isna().sum().max()"
   ]
  },
  {
   "cell_type": "code",
   "execution_count": 152,
   "id": "900d3408",
   "metadata": {},
   "outputs": [],
   "source": [
    "# Датафрейм с заполненными пропусками\n",
    "data_fill = data_numeric.join(data_cat)\n",
    "data_numeric = []\n",
    "data_cat = []"
   ]
  },
  {
   "cell_type": "code",
   "execution_count": 153,
   "id": "5fcca124",
   "metadata": {},
   "outputs": [
    {
     "data": {
      "text/html": [
       "<div>\n",
       "<style scoped>\n",
       "    .dataframe tbody tr th:only-of-type {\n",
       "        vertical-align: middle;\n",
       "    }\n",
       "\n",
       "    .dataframe tbody tr th {\n",
       "        vertical-align: top;\n",
       "    }\n",
       "\n",
       "    .dataframe thead th {\n",
       "        text-align: right;\n",
       "    }\n",
       "</style>\n",
       "<table border=\"1\" class=\"dataframe\">\n",
       "  <thead>\n",
       "    <tr style=\"text-align: right;\">\n",
       "      <th></th>\n",
       "      <th>target</th>\n",
       "      <th>period</th>\n",
       "      <th>markers_706_1_cnt</th>\n",
       "      <th>spas_symptoms_agr_222_6_std</th>\n",
       "      <th>markers_476_1_cnt</th>\n",
       "      <th>user_active_24_0_dt</th>\n",
       "      <th>markers_743_1_cnt</th>\n",
       "      <th>markers_237_1_cnt</th>\n",
       "      <th>markers_558_1_cnt</th>\n",
       "      <th>markers_757_1_cnt</th>\n",
       "      <th>...</th>\n",
       "      <th>tariff_plans_23_1_ctg</th>\n",
       "      <th>communication_availability_40_1_ctg</th>\n",
       "      <th>tariff_plans_14_1_ctg</th>\n",
       "      <th>communication_availability_35_1_ctg</th>\n",
       "      <th>communication_availability_47_1_flg</th>\n",
       "      <th>communication_availability_48_1_flg</th>\n",
       "      <th>communication_availability_17_1_flg</th>\n",
       "      <th>tariff_plans_16_1_ctg</th>\n",
       "      <th>communication_availability_67_1_flg</th>\n",
       "      <th>user_lifetime_0_1_ctg</th>\n",
       "    </tr>\n",
       "  </thead>\n",
       "  <tbody>\n",
       "    <tr>\n",
       "      <th>0</th>\n",
       "      <td>0</td>\n",
       "      <td>202208</td>\n",
       "      <td>-0.357336</td>\n",
       "      <td>-0.120629</td>\n",
       "      <td>-0.764699</td>\n",
       "      <td>1.544611</td>\n",
       "      <td>-0.055048</td>\n",
       "      <td>-0.18704</td>\n",
       "      <td>-0.03591</td>\n",
       "      <td>-0.040255</td>\n",
       "      <td>...</td>\n",
       "      <td>310</td>\n",
       "      <td>3</td>\n",
       "      <td>28</td>\n",
       "      <td>3</td>\n",
       "      <td>0</td>\n",
       "      <td>0</td>\n",
       "      <td>0</td>\n",
       "      <td>423</td>\n",
       "      <td>0</td>\n",
       "      <td>0</td>\n",
       "    </tr>\n",
       "    <tr>\n",
       "      <th>1</th>\n",
       "      <td>0</td>\n",
       "      <td>202210</td>\n",
       "      <td>-0.357336</td>\n",
       "      <td>-0.120629</td>\n",
       "      <td>-0.091028</td>\n",
       "      <td>1.598230</td>\n",
       "      <td>-0.055048</td>\n",
       "      <td>-0.18704</td>\n",
       "      <td>-0.03591</td>\n",
       "      <td>-0.040255</td>\n",
       "      <td>...</td>\n",
       "      <td>310</td>\n",
       "      <td>2</td>\n",
       "      <td>28</td>\n",
       "      <td>3</td>\n",
       "      <td>0</td>\n",
       "      <td>0</td>\n",
       "      <td>1</td>\n",
       "      <td>423</td>\n",
       "      <td>0</td>\n",
       "      <td>0</td>\n",
       "    </tr>\n",
       "    <tr>\n",
       "      <th>2</th>\n",
       "      <td>1</td>\n",
       "      <td>202210</td>\n",
       "      <td>-0.357336</td>\n",
       "      <td>-0.120629</td>\n",
       "      <td>-0.764699</td>\n",
       "      <td>1.598230</td>\n",
       "      <td>-0.055048</td>\n",
       "      <td>-0.18704</td>\n",
       "      <td>-0.03591</td>\n",
       "      <td>-0.040255</td>\n",
       "      <td>...</td>\n",
       "      <td>310</td>\n",
       "      <td>0</td>\n",
       "      <td>28</td>\n",
       "      <td>3</td>\n",
       "      <td>0</td>\n",
       "      <td>0</td>\n",
       "      <td>0</td>\n",
       "      <td>423</td>\n",
       "      <td>0</td>\n",
       "      <td>0</td>\n",
       "    </tr>\n",
       "    <tr>\n",
       "      <th>3</th>\n",
       "      <td>0</td>\n",
       "      <td>202212</td>\n",
       "      <td>-0.357336</td>\n",
       "      <td>-0.120629</td>\n",
       "      <td>0.871360</td>\n",
       "      <td>1.651849</td>\n",
       "      <td>-0.055048</td>\n",
       "      <td>-0.18704</td>\n",
       "      <td>-0.03591</td>\n",
       "      <td>-0.040255</td>\n",
       "      <td>...</td>\n",
       "      <td>287</td>\n",
       "      <td>5</td>\n",
       "      <td>28</td>\n",
       "      <td>3</td>\n",
       "      <td>0</td>\n",
       "      <td>0</td>\n",
       "      <td>0</td>\n",
       "      <td>423</td>\n",
       "      <td>0</td>\n",
       "      <td>0</td>\n",
       "    </tr>\n",
       "    <tr>\n",
       "      <th>4</th>\n",
       "      <td>0</td>\n",
       "      <td>202211</td>\n",
       "      <td>-0.357336</td>\n",
       "      <td>-0.120629</td>\n",
       "      <td>-0.091028</td>\n",
       "      <td>1.625479</td>\n",
       "      <td>-0.055048</td>\n",
       "      <td>-0.18704</td>\n",
       "      <td>-0.03591</td>\n",
       "      <td>-0.040255</td>\n",
       "      <td>...</td>\n",
       "      <td>320</td>\n",
       "      <td>5</td>\n",
       "      <td>28</td>\n",
       "      <td>3</td>\n",
       "      <td>0</td>\n",
       "      <td>0</td>\n",
       "      <td>0</td>\n",
       "      <td>423</td>\n",
       "      <td>0</td>\n",
       "      <td>0</td>\n",
       "    </tr>\n",
       "    <tr>\n",
       "      <th>...</th>\n",
       "      <td>...</td>\n",
       "      <td>...</td>\n",
       "      <td>...</td>\n",
       "      <td>...</td>\n",
       "      <td>...</td>\n",
       "      <td>...</td>\n",
       "      <td>...</td>\n",
       "      <td>...</td>\n",
       "      <td>...</td>\n",
       "      <td>...</td>\n",
       "      <td>...</td>\n",
       "      <td>...</td>\n",
       "      <td>...</td>\n",
       "      <td>...</td>\n",
       "      <td>...</td>\n",
       "      <td>...</td>\n",
       "      <td>...</td>\n",
       "      <td>...</td>\n",
       "      <td>...</td>\n",
       "      <td>...</td>\n",
       "      <td>...</td>\n",
       "    </tr>\n",
       "    <tr>\n",
       "      <th>702081</th>\n",
       "      <td>0</td>\n",
       "      <td>202209</td>\n",
       "      <td>-0.357336</td>\n",
       "      <td>-0.120629</td>\n",
       "      <td>1.833747</td>\n",
       "      <td>-1.565282</td>\n",
       "      <td>-0.055048</td>\n",
       "      <td>-0.18704</td>\n",
       "      <td>-0.03591</td>\n",
       "      <td>-0.040255</td>\n",
       "      <td>...</td>\n",
       "      <td>215</td>\n",
       "      <td>5</td>\n",
       "      <td>28</td>\n",
       "      <td>3</td>\n",
       "      <td>0</td>\n",
       "      <td>0</td>\n",
       "      <td>1</td>\n",
       "      <td>423</td>\n",
       "      <td>0</td>\n",
       "      <td>13</td>\n",
       "    </tr>\n",
       "    <tr>\n",
       "      <th>702082</th>\n",
       "      <td>0</td>\n",
       "      <td>202201</td>\n",
       "      <td>-0.357336</td>\n",
       "      <td>-0.120629</td>\n",
       "      <td>-0.764699</td>\n",
       "      <td>-0.473567</td>\n",
       "      <td>-0.055048</td>\n",
       "      <td>-0.18704</td>\n",
       "      <td>-0.03591</td>\n",
       "      <td>-0.040255</td>\n",
       "      <td>...</td>\n",
       "      <td>215</td>\n",
       "      <td>-1</td>\n",
       "      <td>28</td>\n",
       "      <td>-1</td>\n",
       "      <td>-1</td>\n",
       "      <td>-1</td>\n",
       "      <td>-1</td>\n",
       "      <td>423</td>\n",
       "      <td>-1</td>\n",
       "      <td>0</td>\n",
       "    </tr>\n",
       "    <tr>\n",
       "      <th>702083</th>\n",
       "      <td>0</td>\n",
       "      <td>202203</td>\n",
       "      <td>-0.357336</td>\n",
       "      <td>-0.120629</td>\n",
       "      <td>1.448792</td>\n",
       "      <td>-0.494663</td>\n",
       "      <td>-0.055048</td>\n",
       "      <td>-0.18704</td>\n",
       "      <td>-0.03591</td>\n",
       "      <td>-0.040255</td>\n",
       "      <td>...</td>\n",
       "      <td>215</td>\n",
       "      <td>0</td>\n",
       "      <td>28</td>\n",
       "      <td>3</td>\n",
       "      <td>-1</td>\n",
       "      <td>1</td>\n",
       "      <td>-1</td>\n",
       "      <td>1474</td>\n",
       "      <td>1</td>\n",
       "      <td>0</td>\n",
       "    </tr>\n",
       "    <tr>\n",
       "      <th>702084</th>\n",
       "      <td>0</td>\n",
       "      <td>202201</td>\n",
       "      <td>-0.357336</td>\n",
       "      <td>-0.120629</td>\n",
       "      <td>-0.764699</td>\n",
       "      <td>-0.546524</td>\n",
       "      <td>-0.055048</td>\n",
       "      <td>-0.18704</td>\n",
       "      <td>-0.03591</td>\n",
       "      <td>-0.040255</td>\n",
       "      <td>...</td>\n",
       "      <td>268</td>\n",
       "      <td>-1</td>\n",
       "      <td>28</td>\n",
       "      <td>-1</td>\n",
       "      <td>-1</td>\n",
       "      <td>-1</td>\n",
       "      <td>-1</td>\n",
       "      <td>423</td>\n",
       "      <td>-1</td>\n",
       "      <td>0</td>\n",
       "    </tr>\n",
       "    <tr>\n",
       "      <th>702085</th>\n",
       "      <td>0</td>\n",
       "      <td>202212</td>\n",
       "      <td>-0.357336</td>\n",
       "      <td>-0.120629</td>\n",
       "      <td>-0.764699</td>\n",
       "      <td>-0.253818</td>\n",
       "      <td>-0.055048</td>\n",
       "      <td>-0.18704</td>\n",
       "      <td>-0.03591</td>\n",
       "      <td>-0.040255</td>\n",
       "      <td>...</td>\n",
       "      <td>215</td>\n",
       "      <td>5</td>\n",
       "      <td>28</td>\n",
       "      <td>3</td>\n",
       "      <td>0</td>\n",
       "      <td>1</td>\n",
       "      <td>0</td>\n",
       "      <td>423</td>\n",
       "      <td>1</td>\n",
       "      <td>0</td>\n",
       "    </tr>\n",
       "  </tbody>\n",
       "</table>\n",
       "<p>702086 rows × 167 columns</p>\n",
       "</div>"
      ],
      "text/plain": [
       "        target  period  markers_706_1_cnt  spas_symptoms_agr_222_6_std  \\\n",
       "0            0  202208          -0.357336                    -0.120629   \n",
       "1            0  202210          -0.357336                    -0.120629   \n",
       "2            1  202210          -0.357336                    -0.120629   \n",
       "3            0  202212          -0.357336                    -0.120629   \n",
       "4            0  202211          -0.357336                    -0.120629   \n",
       "...        ...     ...                ...                          ...   \n",
       "702081       0  202209          -0.357336                    -0.120629   \n",
       "702082       0  202201          -0.357336                    -0.120629   \n",
       "702083       0  202203          -0.357336                    -0.120629   \n",
       "702084       0  202201          -0.357336                    -0.120629   \n",
       "702085       0  202212          -0.357336                    -0.120629   \n",
       "\n",
       "        markers_476_1_cnt  user_active_24_0_dt  markers_743_1_cnt  \\\n",
       "0               -0.764699             1.544611          -0.055048   \n",
       "1               -0.091028             1.598230          -0.055048   \n",
       "2               -0.764699             1.598230          -0.055048   \n",
       "3                0.871360             1.651849          -0.055048   \n",
       "4               -0.091028             1.625479          -0.055048   \n",
       "...                   ...                  ...                ...   \n",
       "702081           1.833747            -1.565282          -0.055048   \n",
       "702082          -0.764699            -0.473567          -0.055048   \n",
       "702083           1.448792            -0.494663          -0.055048   \n",
       "702084          -0.764699            -0.546524          -0.055048   \n",
       "702085          -0.764699            -0.253818          -0.055048   \n",
       "\n",
       "        markers_237_1_cnt  markers_558_1_cnt  markers_757_1_cnt  ...  \\\n",
       "0                -0.18704           -0.03591          -0.040255  ...   \n",
       "1                -0.18704           -0.03591          -0.040255  ...   \n",
       "2                -0.18704           -0.03591          -0.040255  ...   \n",
       "3                -0.18704           -0.03591          -0.040255  ...   \n",
       "4                -0.18704           -0.03591          -0.040255  ...   \n",
       "...                   ...                ...                ...  ...   \n",
       "702081           -0.18704           -0.03591          -0.040255  ...   \n",
       "702082           -0.18704           -0.03591          -0.040255  ...   \n",
       "702083           -0.18704           -0.03591          -0.040255  ...   \n",
       "702084           -0.18704           -0.03591          -0.040255  ...   \n",
       "702085           -0.18704           -0.03591          -0.040255  ...   \n",
       "\n",
       "        tariff_plans_23_1_ctg  communication_availability_40_1_ctg  \\\n",
       "0                         310                                    3   \n",
       "1                         310                                    2   \n",
       "2                         310                                    0   \n",
       "3                         287                                    5   \n",
       "4                         320                                    5   \n",
       "...                       ...                                  ...   \n",
       "702081                    215                                    5   \n",
       "702082                    215                                   -1   \n",
       "702083                    215                                    0   \n",
       "702084                    268                                   -1   \n",
       "702085                    215                                    5   \n",
       "\n",
       "        tariff_plans_14_1_ctg  communication_availability_35_1_ctg  \\\n",
       "0                          28                                    3   \n",
       "1                          28                                    3   \n",
       "2                          28                                    3   \n",
       "3                          28                                    3   \n",
       "4                          28                                    3   \n",
       "...                       ...                                  ...   \n",
       "702081                     28                                    3   \n",
       "702082                     28                                   -1   \n",
       "702083                     28                                    3   \n",
       "702084                     28                                   -1   \n",
       "702085                     28                                    3   \n",
       "\n",
       "        communication_availability_47_1_flg  \\\n",
       "0                                         0   \n",
       "1                                         0   \n",
       "2                                         0   \n",
       "3                                         0   \n",
       "4                                         0   \n",
       "...                                     ...   \n",
       "702081                                    0   \n",
       "702082                                   -1   \n",
       "702083                                   -1   \n",
       "702084                                   -1   \n",
       "702085                                    0   \n",
       "\n",
       "        communication_availability_48_1_flg  \\\n",
       "0                                         0   \n",
       "1                                         0   \n",
       "2                                         0   \n",
       "3                                         0   \n",
       "4                                         0   \n",
       "...                                     ...   \n",
       "702081                                    0   \n",
       "702082                                   -1   \n",
       "702083                                    1   \n",
       "702084                                   -1   \n",
       "702085                                    1   \n",
       "\n",
       "        communication_availability_17_1_flg  tariff_plans_16_1_ctg  \\\n",
       "0                                         0                    423   \n",
       "1                                         1                    423   \n",
       "2                                         0                    423   \n",
       "3                                         0                    423   \n",
       "4                                         0                    423   \n",
       "...                                     ...                    ...   \n",
       "702081                                    1                    423   \n",
       "702082                                   -1                    423   \n",
       "702083                                   -1                   1474   \n",
       "702084                                   -1                    423   \n",
       "702085                                    0                    423   \n",
       "\n",
       "        communication_availability_67_1_flg  user_lifetime_0_1_ctg  \n",
       "0                                         0                      0  \n",
       "1                                         0                      0  \n",
       "2                                         0                      0  \n",
       "3                                         0                      0  \n",
       "4                                         0                      0  \n",
       "...                                     ...                    ...  \n",
       "702081                                    0                     13  \n",
       "702082                                   -1                      0  \n",
       "702083                                    1                      0  \n",
       "702084                                   -1                      0  \n",
       "702085                                    1                      0  \n",
       "\n",
       "[702086 rows x 167 columns]"
      ]
     },
     "execution_count": 153,
     "metadata": {},
     "output_type": "execute_result"
    }
   ],
   "source": [
    "data_fill"
   ]
  },
  {
   "cell_type": "markdown",
   "id": "d2f23585",
   "metadata": {},
   "source": [
    "# Обучение модели"
   ]
  },
  {
   "cell_type": "code",
   "execution_count": 154,
   "id": "96fc525f",
   "metadata": {},
   "outputs": [],
   "source": [
    "# Задаем объясняемую и объясняющие переменные\n",
    "features = data_fill.drop(columns=['target'])\n",
    "target = data_fill['target']"
   ]
  },
  {
   "cell_type": "code",
   "execution_count": 155,
   "id": "55febf94",
   "metadata": {},
   "outputs": [],
   "source": [
    "# Оределеяем константу для random_state\n",
    "STATE = 442\n",
    "\n",
    "# Создаем метрику качества для GridSearch\n",
    "roc_auc_scorer = make_scorer(roc_auc_score, greater_is_better=True,\n",
    "                             needs_threshold=True)\n",
    "\n",
    "\n",
    "# Определяем модель\n",
    "model = lgb.LGBMClassifier(random_state = STATE)"
   ]
  },
  {
   "cell_type": "code",
   "execution_count": 156,
   "id": "2e7b6a7c",
   "metadata": {},
   "outputs": [
    {
     "name": "stderr",
     "output_type": "stream",
     "text": [
      "H:\\Anaconda\\lib\\site-packages\\lightgbm\\engine.py:177: UserWarning: Found `num_iterations` in params. Will use it instead of argument\n",
      "  _log_warning(f\"Found `{alias}` in params. Will use it instead of argument\")\n"
     ]
    },
    {
     "name": "stdout",
     "output_type": "stream",
     "text": [
      "ROC-AUC для лучшей модели бустинга составило: -0.733815\n",
      "Гиперпараметры лучшей модели: {'max_depth': 10, 'num_iterations': 300, 'num_leaves': 5, 'num_threads': 6, 'reg_alpha': 0.01}\n",
      "Wall time: 2min 5s\n"
     ]
    }
   ],
   "source": [
    "%%time\n",
    "params = {\n",
    "     'num_iterations':[300],\n",
    "     'max_depth': [10],\n",
    "     'reg_alpha':[0.01],\n",
    "     'num_leaves': [5],\n",
    "     'num_threads': [6]}\n",
    "# Настраиваем GridSearch\n",
    "grid_lgbm = GridSearchCV(model, \n",
    "                         params, \n",
    "                         cv = 4, \n",
    "                         scoring = roc_auc_scorer, \n",
    "                         n_jobs = -1)\n",
    "\n",
    "# Находим модель с лучшим значением метрики\n",
    "grid_lgbm.fit(features[features.columns.tolist()], target)\n",
    "\n",
    "\n",
    "print(f'ROC-AUC для лучшей модели бустинга составило: '\n",
    "      f'{-grid_lgbm.best_score_:.6}')\n",
    "print(f'Гиперпараметры лучшей модели: {grid_lgbm.best_params_}')"
   ]
  },
  {
   "cell_type": "code",
   "execution_count": 157,
   "id": "f657c19c",
   "metadata": {
    "scrolled": false
   },
   "outputs": [
    {
     "data": {
      "text/html": [
       "<div>\n",
       "<style scoped>\n",
       "    .dataframe tbody tr th:only-of-type {\n",
       "        vertical-align: middle;\n",
       "    }\n",
       "\n",
       "    .dataframe tbody tr th {\n",
       "        vertical-align: top;\n",
       "    }\n",
       "\n",
       "    .dataframe thead th {\n",
       "        text-align: right;\n",
       "    }\n",
       "</style>\n",
       "<table border=\"1\" class=\"dataframe\">\n",
       "  <thead>\n",
       "    <tr style=\"text-align: right;\">\n",
       "      <th></th>\n",
       "      <th>feature</th>\n",
       "      <th>importance</th>\n",
       "    </tr>\n",
       "  </thead>\n",
       "  <tbody>\n",
       "    <tr>\n",
       "      <th>0</th>\n",
       "      <td>period</td>\n",
       "      <td>29</td>\n",
       "    </tr>\n",
       "    <tr>\n",
       "      <th>152</th>\n",
       "      <td>materials_details_13_1_ctg</td>\n",
       "      <td>24</td>\n",
       "    </tr>\n",
       "    <tr>\n",
       "      <th>74</th>\n",
       "      <td>traffic_details_49_6_std</td>\n",
       "      <td>24</td>\n",
       "    </tr>\n",
       "    <tr>\n",
       "      <th>145</th>\n",
       "      <td>tariff_plans_18_1_ctg</td>\n",
       "      <td>22</td>\n",
       "    </tr>\n",
       "    <tr>\n",
       "      <th>144</th>\n",
       "      <td>materials_details_0_1_ctg</td>\n",
       "      <td>22</td>\n",
       "    </tr>\n",
       "    <tr>\n",
       "      <th>...</th>\n",
       "      <td>...</td>\n",
       "      <td>...</td>\n",
       "    </tr>\n",
       "    <tr>\n",
       "      <th>9</th>\n",
       "      <td>spas_symptoms_agr_114_6_std</td>\n",
       "      <td>1</td>\n",
       "    </tr>\n",
       "    <tr>\n",
       "      <th>131</th>\n",
       "      <td>campaigns_352_1_sum</td>\n",
       "      <td>1</td>\n",
       "    </tr>\n",
       "    <tr>\n",
       "      <th>88</th>\n",
       "      <td>spas_symptoms_agr_223_6_sum</td>\n",
       "      <td>1</td>\n",
       "    </tr>\n",
       "    <tr>\n",
       "      <th>27</th>\n",
       "      <td>spas_symptoms_int_114_1_cnt</td>\n",
       "      <td>1</td>\n",
       "    </tr>\n",
       "    <tr>\n",
       "      <th>76</th>\n",
       "      <td>traffic_details_65_3_sum</td>\n",
       "      <td>1</td>\n",
       "    </tr>\n",
       "  </tbody>\n",
       "</table>\n",
       "<p>166 rows × 2 columns</p>\n",
       "</div>"
      ],
      "text/plain": [
       "                         feature  importance\n",
       "0                         period          29\n",
       "152   materials_details_13_1_ctg          24\n",
       "74      traffic_details_49_6_std          24\n",
       "145        tariff_plans_18_1_ctg          22\n",
       "144    materials_details_0_1_ctg          22\n",
       "..                           ...         ...\n",
       "9    spas_symptoms_agr_114_6_std           1\n",
       "131          campaigns_352_1_sum           1\n",
       "88   spas_symptoms_agr_223_6_sum           1\n",
       "27   spas_symptoms_int_114_1_cnt           1\n",
       "76      traffic_details_65_3_sum           1\n",
       "\n",
       "[166 rows x 2 columns]"
      ]
     },
     "execution_count": 157,
     "metadata": {},
     "output_type": "execute_result"
    }
   ],
   "source": [
    "# Достаем значимость объясняющих переменных\n",
    "importances = grid_lgbm.best_estimator_.feature_importances_\n",
    "\n",
    "# Создаем датафрейм\n",
    "data_tuples = list(zip(features.columns.tolist(), importances.tolist()))\n",
    "feat_imp_df = pd.DataFrame(data_tuples, columns=['feature','importance'])\n",
    "feat_imp_df.sort_values(by = 'importance', ascending = False)"
   ]
  },
  {
   "cell_type": "markdown",
   "id": "74af2bfd",
   "metadata": {},
   "source": [
    "## Тестирование модели"
   ]
  },
  {
   "cell_type": "code",
   "execution_count": 158,
   "id": "e409808d",
   "metadata": {},
   "outputs": [],
   "source": [
    "# Считываем тестовые данные\n",
    "test = pd.read_parquet('features_oot.parquet', engine='pyarrow')\n",
    "\n",
    "# Считываем объясняющие переменные\n",
    "features_test = test[features.columns.tolist()]\n",
    "\n",
    "# Можно сразу считать фичи из паркета"
   ]
  },
  {
   "cell_type": "code",
   "execution_count": 159,
   "id": "1bda5343",
   "metadata": {},
   "outputs": [],
   "source": [
    "# Прогнозируем значение\n",
    "predict = grid_lgbm.predict_proba(features_test)"
   ]
  },
  {
   "cell_type": "code",
   "execution_count": 160,
   "id": "7e03f405",
   "metadata": {},
   "outputs": [
    {
     "data": {
      "text/html": [
       "<div>\n",
       "<style scoped>\n",
       "    .dataframe tbody tr th:only-of-type {\n",
       "        vertical-align: middle;\n",
       "    }\n",
       "\n",
       "    .dataframe tbody tr th {\n",
       "        vertical-align: top;\n",
       "    }\n",
       "\n",
       "    .dataframe thead th {\n",
       "        text-align: right;\n",
       "    }\n",
       "</style>\n",
       "<table border=\"1\" class=\"dataframe\">\n",
       "  <thead>\n",
       "    <tr style=\"text-align: right;\">\n",
       "      <th></th>\n",
       "      <th>id</th>\n",
       "      <th>target</th>\n",
       "    </tr>\n",
       "  </thead>\n",
       "  <tbody>\n",
       "    <tr>\n",
       "      <th>0</th>\n",
       "      <td>0</td>\n",
       "      <td>0.006275</td>\n",
       "    </tr>\n",
       "    <tr>\n",
       "      <th>1</th>\n",
       "      <td>1</td>\n",
       "      <td>0.003728</td>\n",
       "    </tr>\n",
       "    <tr>\n",
       "      <th>2</th>\n",
       "      <td>2</td>\n",
       "      <td>0.011494</td>\n",
       "    </tr>\n",
       "    <tr>\n",
       "      <th>3</th>\n",
       "      <td>3</td>\n",
       "      <td>0.004412</td>\n",
       "    </tr>\n",
       "    <tr>\n",
       "      <th>4</th>\n",
       "      <td>4</td>\n",
       "      <td>0.011687</td>\n",
       "    </tr>\n",
       "    <tr>\n",
       "      <th>...</th>\n",
       "      <td>...</td>\n",
       "      <td>...</td>\n",
       "    </tr>\n",
       "    <tr>\n",
       "      <th>60656</th>\n",
       "      <td>60656</td>\n",
       "      <td>0.004887</td>\n",
       "    </tr>\n",
       "    <tr>\n",
       "      <th>60657</th>\n",
       "      <td>60657</td>\n",
       "      <td>0.004500</td>\n",
       "    </tr>\n",
       "    <tr>\n",
       "      <th>60658</th>\n",
       "      <td>60658</td>\n",
       "      <td>0.032420</td>\n",
       "    </tr>\n",
       "    <tr>\n",
       "      <th>60659</th>\n",
       "      <td>60659</td>\n",
       "      <td>0.014658</td>\n",
       "    </tr>\n",
       "    <tr>\n",
       "      <th>60660</th>\n",
       "      <td>60660</td>\n",
       "      <td>0.002534</td>\n",
       "    </tr>\n",
       "  </tbody>\n",
       "</table>\n",
       "<p>60661 rows × 2 columns</p>\n",
       "</div>"
      ],
      "text/plain": [
       "          id    target\n",
       "0          0  0.006275\n",
       "1          1  0.003728\n",
       "2          2  0.011494\n",
       "3          3  0.004412\n",
       "4          4  0.011687\n",
       "...      ...       ...\n",
       "60656  60656  0.004887\n",
       "60657  60657  0.004500\n",
       "60658  60658  0.032420\n",
       "60659  60659  0.014658\n",
       "60660  60660  0.002534\n",
       "\n",
       "[60661 rows x 2 columns]"
      ]
     },
     "execution_count": 160,
     "metadata": {},
     "output_type": "execute_result"
    }
   ],
   "source": [
    "# Подготавливаем данные для экспорта в csv\n",
    "predict_df = pd.DataFrame(predict).reset_index()\n",
    "predict_df = predict_df.drop(columns = 0).rename(columns = {'index': 'id', 1: 'target'})\n",
    "predict_df"
   ]
  },
  {
   "cell_type": "code",
   "execution_count": 161,
   "id": "b311866b",
   "metadata": {},
   "outputs": [],
   "source": [
    "# Экспортируем файл\n",
    "predict_df.to_csv (r'C:\\Users\\anato\\Desktop\\ds\\Хакатон R1\\3nd_chanse_full_most_important_with_drop.csv', index= False )"
   ]
  }
 ],
 "metadata": {
  "kernelspec": {
   "display_name": "Python 3 (ipykernel)",
   "language": "python",
   "name": "python3"
  },
  "language_info": {
   "codemirror_mode": {
    "name": "ipython",
    "version": 3
   },
   "file_extension": ".py",
   "mimetype": "text/x-python",
   "name": "python",
   "nbconvert_exporter": "python",
   "pygments_lexer": "ipython3",
   "version": "3.9.13"
  },
  "toc": {
   "base_numbering": 1,
   "nav_menu": {},
   "number_sections": false,
   "sideBar": true,
   "skip_h1_title": false,
   "title_cell": "Table of Contents",
   "title_sidebar": "Contents",
   "toc_cell": false,
   "toc_position": {
    "height": "751px",
    "left": "33px",
    "top": "111.125px",
    "width": "165px"
   },
   "toc_section_display": true,
   "toc_window_display": true
  }
 },
 "nbformat": 4,
 "nbformat_minor": 5
}
